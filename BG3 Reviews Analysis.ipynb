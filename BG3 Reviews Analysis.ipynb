{
 "cells": [
  {
   "cell_type": "markdown",
   "metadata": {},
   "source": [
    "Data Project Rubric: \n",
    "Data Analysis with Python (Pandas & Matplotlib)\n",
    "\n",
    "1. Project Overview \n",
    "\n",
    "○   Analysis of reviews of BG3 as of December 14, 2023 (after the 6th patch release), searching for a rating score of 1-10/10 reccommendations to determine if purchasing and playing to game is worth spending the money and time envoled to complete the game. I also did an Analysis of method of access from the reviews (i.e. whether the reviewer purchased the game via Steam or received the game for free). \n",
    "\n",
    "\n",
    "○   This data source comes from https://www.kaggle.com/datasets/harisyafie/baldurs-gate-3-steam-reviews/data 309K reviews from Steam digital distibution service, data is dated up to December 14 2023. \n"
   ]
  },
  {
   "cell_type": "code",
   "execution_count": 96,
   "metadata": {},
   "outputs": [],
   "source": [
    "import pandas as pd\n",
    "import matplotlib.pyplot as plt\n",
    "import numpy as np\n",
    "from collections import Counter\n",
    "import nltk\n",
    "# nltk.download('stopwords')\n",
    "import string\n"
   ]
  },
  {
   "cell_type": "markdown",
   "metadata": {},
   "source": [
    "2. Data Collection and Loading \n",
    "\n",
    "●\tLoad Data: I used Pandas to load the dataset via a CSV file. \n",
    "\n",
    "●\tInitial Check: Please see below for the initial disply of the dataset. Then the first few rows and basic information about the dataset, noting column names, types, and missing values.\n",
    "\n",
    "●\tSelection Options:\n",
    "\n",
    "○\tI dropped several columns that were not needed for the analysis (language, voted_up, votes_up,written_during_early_access, votes_funny, weighted_vote_score, comment_count). \n",
    "\n",
    "○\tThe columns that I focused were Reviews, TimeStapm created, Timestamp updated, steam purchase, and recieved for free. \n"
   ]
  },
  {
   "cell_type": "code",
   "execution_count": null,
   "metadata": {},
   "outputs": [],
   "source": [
    "BG3 = pd.read_csv(\"BG3_reviews_updated.csv\")\n",
    "\n",
    "BG3"
   ]
  },
  {
   "cell_type": "code",
   "execution_count": null,
   "metadata": {},
   "outputs": [],
   "source": [
    "\n",
    "BG3.head()\n"
   ]
  },
  {
   "cell_type": "code",
   "execution_count": null,
   "metadata": {},
   "outputs": [],
   "source": [
    "BG3.shape\n",
    "\n",
    "rows, columns = BG3.shape\n",
    "print(f\"BG3 dataset has {rows} rows and {columns} columns.\")"
   ]
  },
  {
   "cell_type": "code",
   "execution_count": null,
   "metadata": {},
   "outputs": [],
   "source": [
    "BG3.describe()\n"
   ]
  },
  {
   "cell_type": "code",
   "execution_count": null,
   "metadata": {},
   "outputs": [],
   "source": [
    "BG3 = BG3.drop(['language','voted_up','votes_up','written_during_early_access','votes_funny','weighted_vote_score','comment_count'], axis=1)\n",
    "BG3"
   ]
  },
  {
   "cell_type": "code",
   "execution_count": null,
   "metadata": {},
   "outputs": [],
   "source": [
    "BG3.info()"
   ]
  },
  {
   "cell_type": "markdown",
   "metadata": {},
   "source": [
    "3. Data Cleaning and Preparation \n",
    "\n",
    "●\tHandle Missing Values: I ran for all null values, found that they were only located in the 'Review' column. I left them as is because I extracted the number of reviews that contained a rating out of 1 to 10/10 to use for the analysis of recommendations. I also left them as they would screw the numbers for the method of access that I graphed at the end of the analysis. This resulted in a dictionary with the number of ratings for each 1 to 10/10. \n",
    "\n",
    "○\tExplain why you did this drop, fill, etc.: I left the data as is, as I am looking for the score out of 10 that the reviewer left those without a review or a score are not counted in the analysis. I am also looking to compare the number of free versions vs purchases that were reviewed. \n",
    "\n",
    "●\tData Type Adjustments: I converted the timestamp columns to current date/time format. It was in Linux time (seconds lapsed from January 1, 1970 at 00:00 hrs).\n",
    "\n",
    "●\tFeature Engineering: Created a new column by turning the boolean from 'steam_purchase' and 'received_for_free' to a string of steam or free, then combined the columns to one to get a single graphical representation of the method of access from the dataset. I had to rename the rows that either combined to SteamFree or were null, to both or no response. This can be seen in the below graph. \n",
    "\n",
    "○\n"
   ]
  },
  {
   "cell_type": "code",
   "execution_count": null,
   "metadata": {},
   "outputs": [],
   "source": [
    "BG3.isnull()\n",
    "\n",
    "BG3.any()"
   ]
  },
  {
   "cell_type": "code",
   "execution_count": null,
   "metadata": {},
   "outputs": [],
   "source": [
    "missing_values = BG3.isna()\n",
    "print(missing_values)"
   ]
  },
  {
   "cell_type": "code",
   "execution_count": null,
   "metadata": {},
   "outputs": [],
   "source": [
    "missing_count = BG3.isna().sum()\n",
    "print(missing_count)"
   ]
  },
  {
   "cell_type": "code",
   "execution_count": null,
   "metadata": {},
   "outputs": [],
   "source": [
    "#BG3['timestamp_created'] = pd.to_datetime(BG3['timestamp_created'])\n",
    "BG3['timestamp_created'] = pd.to_datetime(BG3['timestamp_created'], unit='s')\n",
    "BG3\n",
    "#convert from unix \n",
    "#unix_timestamp = 1643723400  # example Unix timestamp\n",
    "\n",
    "#date_object = pd.to_datetime(unix_timestamp, unit='s')\n",
    "#print(date_object)  # Output: 2022-02-01 00:00:00"
   ]
  },
  {
   "cell_type": "code",
   "execution_count": null,
   "metadata": {},
   "outputs": [],
   "source": [
    "\n",
    "BG3['timestamp_updated'] = pd.to_datetime(BG3['timestamp_updated'], unit='s')\n",
    "BG3"
   ]
  },
  {
   "cell_type": "code",
   "execution_count": null,
   "metadata": {},
   "outputs": [],
   "source": [
    "column_list = BG3.columns\n",
    "list(column_list)\n"
   ]
  },
  {
   "cell_type": "code",
   "execution_count": null,
   "metadata": {},
   "outputs": [],
   "source": [
    "# change booleann to str, True to Steam in column 'steam_purchase'\n",
    "BG3['steam_purchase'] = BG3['steam_purchase'].replace({True:'True', False:'False'})\n",
    "BG3.info()"
   ]
  },
  {
   "cell_type": "code",
   "execution_count": null,
   "metadata": {},
   "outputs": [],
   "source": [
    "#change boolean to str in 'recevied_for_free'\n",
    "BG3['received_for_free'] = BG3['received_for_free'].replace({True: 'True', False:'False'})\n",
    "BG3.info()"
   ]
  },
  {
   "cell_type": "code",
   "execution_count": null,
   "metadata": {},
   "outputs": [],
   "source": [
    "# change yes in steam column to Steam, change yes in free column to free\n",
    "# BG3['steam_purchase'].replace('True', 'Steam', inplace=True)\n",
    "# BG3.replace({'steam_purchase':'True','Steam':}, inplace=True)\n",
    "BG3['steam_purchase'] = BG3['steam_purchase'].replace({'True':'Steam','False':''})\n",
    "BG3['received_for_free'] = BG3['received_for_free'].replace({'True':'Free','False':''})\n",
    "BG3\n",
    "# build a column to consolidate Free vs Steam purchase\n",
    "# BG3['steam_purchase'].value_counts()\n",
    "BG3['received_for_free'].value_counts()"
   ]
  },
  {
   "cell_type": "code",
   "execution_count": null,
   "metadata": {},
   "outputs": [],
   "source": [
    "#concatenate 'steam_purchase' and 'received_for_free' to build new column 'Access_Method'\n",
    "#df['new column'] = df['column1'] + df['column2']\n",
    "BG3['Access_Method'] = BG3['steam_purchase'] + BG3['received_for_free']\n",
    "BG3\n"
   ]
  },
  {
   "cell_type": "code",
   "execution_count": null,
   "metadata": {},
   "outputs": [],
   "source": [
    "#change 'SteamFree' to 'Both\n",
    "BG3['Access_Method'] = BG3['Access_Method'].replace({'SteamFree':'Both','':'No Response'})\n",
    "BG3"
   ]
  },
  {
   "cell_type": "code",
   "execution_count": null,
   "metadata": {},
   "outputs": [],
   "source": [
    "BG3['Access_Method'].value_counts()"
   ]
  },
  {
   "cell_type": "code",
   "execution_count": null,
   "metadata": {},
   "outputs": [],
   "source": [
    "#drop 'steam_purchse' & 'received_for_free' columns\n",
    "BG3 = BG3.drop(['steam_purchase','received_for_free'],axis=1)\n",
    "BG3"
   ]
  },
  {
   "cell_type": "code",
   "execution_count": null,
   "metadata": {},
   "outputs": [],
   "source": [
    "# BG3[\"review\"].value_counts()\n",
    "# count most common words used in 'review' column\n",
    "# # Use Counter on the 'review' column\n",
    "\n",
    "most_used_words = Counter(BG3['review'])\n",
    "print(most_used_words)"
   ]
  },
  {
   "cell_type": "code",
   "execution_count": null,
   "metadata": {},
   "outputs": [],
   "source": [
    "most_used_words"
   ]
  },
  {
   "cell_type": "code",
   "execution_count": null,
   "metadata": {},
   "outputs": [],
   "source": [
    "#Find 10 most common words/phrases in 'reveiw' column\n",
    "\n",
    "top_N = 10\n",
    "\n",
    "# Read the CSV file\n",
    "BG3 = pd.read_csv(r'BG3_reviews_updated.csv', usecols=['review'])\n",
    "\n",
    "# Get the stopwords\n",
    "stopwords = nltk.corpus.stopwords.words('english')\n",
    "\n",
    "# RegEx for stopwords\n",
    "RE_stopwords = r'\\b(?:{})\\b'.format('|'.join(stopwords))\n",
    "\n",
    "# Words to remove (in addition to stopwords and punctuation)\n",
    "words_to_remove = ['game', 'games', 'play', 'plays','played','3']\n",
    "\n",
    "# Preprocess text: Convert to lowercase, replace unwanted characters, remove stopwords, punctuation, and specific words\n",
    "words = (BG3['review']\n",
    "           .str.lower()  # Convert to lowercase\n",
    "           .replace([r'\\|', RE_stopwords], [' ', ''], regex=True)  # Remove unwanted characters and stopwords\n",
    "           .str.replace(f'[{string.punctuation}]', '', regex=True)  # Remove punctuation marks\n",
    "           .str.cat(sep=' ')  # Concatenate all reviews into one large string\n",
    "           .split()  # Split into individual words\n",
    ")\n",
    "\n",
    "# Remove specific words from the list\n",
    "words = [word for word in words if word not in words_to_remove]\n",
    "\n",
    "# Generate frequency count using Counter\n",
    "rslt = pd.DataFrame(Counter(words).most_common(top_N),\n",
    "                    columns=['Word', 'Frequency']).set_index('Word')\n",
    "\n",
    "print(rslt)\n",
    "\n"
   ]
  },
  {
   "cell_type": "code",
   "execution_count": null,
   "metadata": {},
   "outputs": [],
   "source": [
    "def count_and_sum_patterns(BG3, column):\n",
    "    pattern_counts = {}\n",
    "    for i in range(1, 11):\n",
    "        pattern = f\"{i}/10\"\n",
    "        count = BG3['review'].str.contains(pattern).sum()\n",
    "        pattern_counts[pattern] = count\n",
    "    return pattern_counts\n",
    "\n",
    "# Count and sum patterns\n",
    "result = count_and_sum_patterns(BG3, 'review')\n",
    "print(result)\n",
    "\n"
   ]
  },
  {
   "cell_type": "code",
   "execution_count": null,
   "metadata": {},
   "outputs": [],
   "source": [
    "# if statement if reveiw column does not contain result .drop(axis=0) \n",
    "result "
   ]
  },
  {
   "cell_type": "code",
   "execution_count": null,
   "metadata": {},
   "outputs": [],
   "source": [
    "total_sum = sum(result.values())\n",
    "\n",
    "#calculate the percentage of each item\n",
    "percentages = {key: (value/total_sum) * 100 for key, value in result.items()}\n",
    "\n",
    "#format the percentages to 2 decimal places\n",
    "formatted_percentages = {key: round(value, 2) for key, value in percentages.items()}\n",
    "\n",
    "print(\"Total sum:\", total_sum)\n"
   ]
  },
  {
   "cell_type": "code",
   "execution_count": null,
   "metadata": {},
   "outputs": [],
   "source": [
    "print(\"Percentages:\", formatted_percentages)"
   ]
  },
  {
   "cell_type": "markdown",
   "metadata": {},
   "source": [
    "4. Exploratory Data Analysis (EDA) \n",
    "\n",
    "●\tDescriptive Statistics: I used the dictionary of ratings to get the total number of reviews that contained a rating, then factored the percentages for each score given from the total rated reviews. \n",
    "\n",
    "●\tData Visualizations: I graphed the percentages of the ratings given in a bar graph below. I also graphed out the methods of access as described by the dataset in a bar graph. I also searched for the 10 most common words found in the written reviews to gauage where the highlights are for players. \n",
    "\n",
    "○\t\n"
   ]
  },
  {
   "cell_type": "code",
   "execution_count": null,
   "metadata": {},
   "outputs": [],
   "source": [
    "summary = BG3.describe()\n",
    "print(summary)"
   ]
  },
  {
   "cell_type": "code",
   "execution_count": null,
   "metadata": {},
   "outputs": [],
   "source": [
    "summary = BG3.describe()\n",
    "pd.set_option('display.float_format', '{:.2f}'.format)\n",
    "print(summary)"
   ]
  },
  {
   "cell_type": "code",
   "execution_count": null,
   "metadata": {},
   "outputs": [],
   "source": [
    "# Plot the result as a bar chart\n",
    "rslt.plot.bar(rot=0, figsize=(16,10), width=0.8)"
   ]
  },
  {
   "cell_type": "code",
   "execution_count": null,
   "metadata": {},
   "outputs": [],
   "source": [
    "#define ticks and adjust x,y axix to clean up the plot\n",
    "\n",
    "plt.bar(formatted_percentages.keys(), formatted_percentages.values())\n",
    "#plt.yticks([0, 100, 10]))\n",
    "plt.xlabel('Reccommendation out of 10')\n",
    "plt.ylabel('Reccommendation Percentages')\n",
    "plt.title(\"Baldur's Gate 3 Reccomemdations out of 10\")\n",
    "# plt.yticks(np.arange(0, 10, 100))\n",
    "plt.show()"
   ]
  },
  {
   "cell_type": "code",
   "execution_count": null,
   "metadata": {},
   "outputs": [],
   "source": [
    "BG3['Access_Method'].value_counts().plot(kind='bar', rot=90)"
   ]
  },
  {
   "cell_type": "markdown",
   "metadata": {},
   "source": [
    "5. Analysis and Insights\n",
    "\n",
    "●\tFindings: Reviewers recommended Baldur's Gate 3 seventy-four (74) percent of the time at a 10/10. There were some outliers for lower scoring with 1/10, 9/10, and 5/10 being the next highest recommendation scores. \n",
    "\n",
    "●\tSupporting Data: Extraction of rating scores from the available dataset. \n",
    "Count_and_sum_patterns: {'1/10': 1799, '2/10': 354, '3/10': 122, '4/10': 81, '5/10': 1002, '6/10': 166, '7/10': 354, '8/10': 676, '9/10': 1574, '10/10': 17830}  \n",
    "Percentages: {'1/10': 7.51, '2/10': 1.48, '3/10': 0.51, '4/10': 0.34, '5/10': 4.18, '6/10': 0.69, '7/10': 1.48, '8/10': 2.82, '9/10': 6.57, '10/10': 74.42}\n",
    "\n",
    "●\tThe majority of reviews from this dataset came from Steam purchases, and the majortiy of ratings are reported as 10/10, therefore, you can surmise that the purchase price and the time needed to complete a run through would be worth both investments. "
   ]
  },
  {
   "cell_type": "markdown",
   "metadata": {},
   "source": [
    "6. Conclusion and Recommendations (10 points)\n",
    "\n",
    "●\tSummarize: The majority of reviews came from purchases of the game Baldur's Gate 3; 3079 were free, 278256 were Steam purchases. Of the reviews submitted, 23958 contained a reccommendation rating out of 10. Of those, 74% of players reccommend BG3 at a 10/10. Larian Studios has produced a highly reccommended game that is worth the monetary cost and the time investment to complete a run through of the game.\n",
    "\n",
    "●\tRecommendations: Compile updated data from December 14, 2023 to present to determine the continued popularity of the game and the statistical reccommendations since this data was compiled. Analysis of continued reccommendations will give Larian Studios addtional areas to concentrate on for updates and continued player satisfaction. \n"
   ]
  },
  {
   "cell_type": "code",
   "execution_count": null,
   "metadata": {},
   "outputs": [],
   "source": []
  },
  {
   "cell_type": "markdown",
   "metadata": {},
   "source": [
    "Optional Advanced Section (Bonus)\n",
    "\n",
    "●\tAdvanced EDA: Use pair plots or correlation matrices to explore relationships.\n",
    "\n",
    "●\tDashboards: Create a simple dashboard with Matplotlib or extend to Dash/Streamlit.\n"
   ]
  }
 ],
 "metadata": {
  "kernelspec": {
   "display_name": "Python 3",
   "language": "python",
   "name": "python3"
  },
  "language_info": {
   "codemirror_mode": {
    "name": "ipython",
    "version": 3
   },
   "file_extension": ".py",
   "mimetype": "text/x-python",
   "name": "python",
   "nbconvert_exporter": "python",
   "pygments_lexer": "ipython3",
   "version": "3.11.9"
  }
 },
 "nbformat": 4,
 "nbformat_minor": 2
}
